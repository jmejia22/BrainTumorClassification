{
 "cells": [
  {
   "cell_type": "code",
   "execution_count": 1,
   "metadata": {},
   "outputs": [
    {
     "name": "stdout",
     "output_type": "stream",
     "text": [
      "Requirement already satisfied: pymatreader in /Users/wendytran/opt/anaconda3/lib/python3.8/site-packages (0.0.24)\n",
      "Requirement already satisfied: numpy in /Users/wendytran/opt/anaconda3/lib/python3.8/site-packages (from pymatreader) (1.19.2)\n",
      "Requirement already satisfied: h5py in /Users/wendytran/opt/anaconda3/lib/python3.8/site-packages (from pymatreader) (2.10.0)\n",
      "Requirement already satisfied: future in /Users/wendytran/opt/anaconda3/lib/python3.8/site-packages (from pymatreader) (0.18.2)\n",
      "Requirement already satisfied: scipy in /Users/wendytran/opt/anaconda3/lib/python3.8/site-packages (from pymatreader) (1.5.2)\n",
      "Requirement already satisfied: xmltodict in /Users/wendytran/opt/anaconda3/lib/python3.8/site-packages (from pymatreader) (0.12.0)\n",
      "Requirement already satisfied: six in /Users/wendytran/opt/anaconda3/lib/python3.8/site-packages (from h5py->pymatreader) (1.15.0)\n",
      "Note: you may need to restart the kernel to use updated packages.\n"
     ]
    }
   ],
   "source": [
    "pip install pymatreader"
   ]
  },
  {
   "cell_type": "code",
   "execution_count": 2,
   "metadata": {},
   "outputs": [],
   "source": [
    "def get_tumor_images(url):\n",
    "    \"\"\"\n",
    "    Retrieves the raw data needed for the CNN model, including the images, labels, and border for the 3 different\n",
    "    types of tumor \n",
    "    \"\"\"\n",
    "    meningioma_images = []\n",
    "    meningioma_labels = []\n",
    "    meningioma_border = []\n",
    "\n",
    "    glioma_images = []\n",
    "    glioma_labels = []\n",
    "    glioma_border = []\n",
    "\n",
    "    pituitary_images = []\n",
    "    pituitary_labels = []\n",
    "    pituitary_border = []\n",
    "\n",
    "    no_tumor_images = []\n",
    "    no_tumor_labels = []\n",
    "\n",
    "    # looping through tumorous data\n",
    "    for i in os.listdir(url):\n",
    "\n",
    "        # getting the data for a particular MRI and translating the .math files using the read_mat function\n",
    "        data = read_mat(os.path.join(url, i))\n",
    "\n",
    "        # getting the image and label using indexing\n",
    "        image = data['cjdata']['image']\n",
    "        label = data['cjdata']['label']\n",
    "        border = data['cjdata']['tumorBorder']\n",
    "        resized_border = border / 6.4\n",
    "\n",
    "        # specifying what dimensions we want the image to be\n",
    "        dimensions = (80,80)\n",
    "\n",
    "        # resizing the image\n",
    "        resized_image = cv2.resize(image, dimensions)\n",
    "\n",
    "        # checking the label of the image and appending each respective list accordingly \n",
    "        if label == 1:\n",
    "            meningioma_images.append(resized_image)\n",
    "            meningioma_labels.append(label)\n",
    "            meningioma_border.append(resized_border)\n",
    "\n",
    "        elif label == 2:\n",
    "            glioma_images.append(resized_image)\n",
    "            glioma_labels.append(label)\n",
    "            glioma_border.append(resized_border)\n",
    "\n",
    "        else:\n",
    "            pituitary_images.append(resized_image)\n",
    "            pituitary_labels.append(label)\n",
    "            pituitary_border.append(resized_border)\n",
    "\n",
    "    return meningioma_images, meningioma_labels, meningioma_border, glioma_images, glioma_labels, glioma_border, pituitary_images, pituitary_labels, pituitary_border"
   ]
  },
  {
   "cell_type": "code",
   "execution_count": null,
   "metadata": {},
   "outputs": [],
   "source": []
  },
  {
   "cell_type": "code",
   "execution_count": null,
   "metadata": {},
   "outputs": [],
   "source": []
  }
 ],
 "metadata": {
  "kernelspec": {
   "display_name": "Python 3",
   "language": "python",
   "name": "python3"
  },
  "language_info": {
   "codemirror_mode": {
    "name": "ipython",
    "version": 3
   },
   "file_extension": ".py",
   "mimetype": "text/x-python",
   "name": "python",
   "nbconvert_exporter": "python",
   "pygments_lexer": "ipython3",
   "version": "3.8.5"
  }
 },
 "nbformat": 4,
 "nbformat_minor": 4
}
